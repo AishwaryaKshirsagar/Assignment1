{
  "nbformat": 4,
  "nbformat_minor": 0,
  "metadata": {
    "colab": {
      "name": "Assignment1.ipynb",
      "provenance": [],
      "collapsed_sections": [],
      "authorship_tag": "ABX9TyNQrpGH1/aAlAu3+6bF0d0Z",
      "include_colab_link": true
    },
    "kernelspec": {
      "name": "python3",
      "display_name": "Python 3"
    },
    "language_info": {
      "name": "python"
    }
  },
  "cells": [
    {
      "cell_type": "markdown",
      "metadata": {
        "id": "view-in-github",
        "colab_type": "text"
      },
      "source": [
        "<a href=\"https://colab.research.google.com/github/AishwaryaKshirsagar/Assignment1/blob/main/Assignment1.ipynb\" target=\"_parent\"><img src=\"https://colab.research.google.com/assets/colab-badge.svg\" alt=\"Open In Colab\"/></a>"
      ]
    },
    {
      "cell_type": "markdown",
      "metadata": {
        "id": "06aVkEmwDuvz"
      },
      "source": [
        "#Task 1\n",
        "###**SIRSS2228**\n",
        "\n",
        "###*Aishwarya* *Kshirsagar*"
      ]
    },
    {
      "cell_type": "code",
      "metadata": {
        "colab": {
          "base_uri": "https://localhost:8080/"
        },
        "id": "npnqfiE1Rl-R",
        "outputId": "0fe8d6c5-4bf1-41aa-f085-e46ec57d4630"
      },
      "source": [
        "#Pattern 1\n",
        "\n",
        "n=5\n",
        "m=5\n",
        "for i in range(0,n):\n",
        "  for j in range(0,m):\n",
        "    print('5', end = ' ')\n",
        "  print()\n",
        "  m-=1"
      ],
      "execution_count": 25,
      "outputs": [
        {
          "output_type": "stream",
          "text": [
            "5 5 5 5 5 \n",
            "5 5 5 5 \n",
            "5 5 5 \n",
            "5 5 \n",
            "5 \n"
          ],
          "name": "stdout"
        }
      ]
    },
    {
      "cell_type": "code",
      "metadata": {
        "colab": {
          "base_uri": "https://localhost:8080/"
        },
        "id": "U6jy5H2JRnVP",
        "outputId": "ac734ef0-d7cd-41f2-baed-0c05dcf60985"
      },
      "source": [
        "#Pattern 2\n",
        "\n",
        "n=5\n",
        "m=6\n",
        "for i in range(0,n):#next line\n",
        "    num=0\n",
        "    for j in range(0,m):#each line\n",
        "      print(num, end = ' ')\n",
        "      num+=1  \n",
        "    m-=1\n",
        "    print()"
      ],
      "execution_count": 26,
      "outputs": [
        {
          "output_type": "stream",
          "text": [
            "0 1 2 3 4 5 \n",
            "0 1 2 3 4 \n",
            "0 1 2 3 \n",
            "0 1 2 \n",
            "0 1 \n"
          ],
          "name": "stdout"
        }
      ]
    },
    {
      "cell_type": "code",
      "metadata": {
        "colab": {
          "base_uri": "https://localhost:8080/"
        },
        "id": "jfSNMHNDRqkk",
        "outputId": "3a418ab8-0046-4966-8613-42b2c74d828e"
      },
      "source": [
        "#Pattern 3\n",
        "\n",
        "rows = 6\n",
        "i=1\n",
        "for i in range(rows):\n",
        "  j=1\n",
        "  for j in range(i):\n",
        "      print(i*2-1,end=\" \")\n",
        "      j+=1\n",
        "  i+=1\n",
        "  print()"
      ],
      "execution_count": 27,
      "outputs": [
        {
          "output_type": "stream",
          "text": [
            "\n",
            "1 \n",
            "3 3 \n",
            "5 5 5 \n",
            "7 7 7 7 \n",
            "9 9 9 9 9 \n"
          ],
          "name": "stdout"
        }
      ]
    },
    {
      "cell_type": "code",
      "metadata": {
        "colab": {
          "base_uri": "https://localhost:8080/"
        },
        "id": "ytEEnXlqRuJP",
        "outputId": "a1260d20-c516-43ed-c4a7-38540486aeda"
      },
      "source": [
        "#Pattern 4\n",
        "\n",
        "n = 6\n",
        "for i in range(1, n):\n",
        "  for j in range(i, 0, -1):\n",
        "    print(j, end= \" \")\n",
        " \n",
        "  print()"
      ],
      "execution_count": 28,
      "outputs": [
        {
          "output_type": "stream",
          "text": [
            "1 \n",
            "2 1 \n",
            "3 2 1 \n",
            "4 3 2 1 \n",
            "5 4 3 2 1 \n"
          ],
          "name": "stdout"
        }
      ]
    },
    {
      "cell_type": "code",
      "metadata": {
        "colab": {
          "base_uri": "https://localhost:8080/"
        },
        "id": "UcrFGgf7R0Ow",
        "outputId": "89754db4-da5f-432f-9bb5-9eb12a093ec9"
      },
      "source": [
        "#Pattern 5\n",
        "\n",
        "lst = []\n",
        "for i in range(1, 5):# nos of rows\n",
        "    if len(lst) == 0:\n",
        "        lst.append(i)\n",
        "    else:\n",
        "        for j in range(i):\n",
        "            last = lst[-1]\n",
        "            lst.append(last+1)\n",
        "    \n",
        "    result = \" \".join([str(lst[-k]) for k in range(1, i+1)])\n",
        "    print(result)"
      ],
      "execution_count": 29,
      "outputs": [
        {
          "output_type": "stream",
          "text": [
            "1\n",
            "3 2\n",
            "6 5 4\n",
            "10 9 8 7\n"
          ],
          "name": "stdout"
        }
      ]
    },
    {
      "cell_type": "code",
      "metadata": {
        "colab": {
          "base_uri": "https://localhost:8080/"
        },
        "id": "KVz6CFIt1xq5",
        "outputId": "eb8c1255-26f6-4055-e0b0-d7f353061edc"
      },
      "source": [
        "#Pattern 6\n",
        "\n",
        "n = 8\n",
        "for i in range(1, n):\n",
        "  for j in range(i, 0, -1):\n",
        "    print(j, end= \" \")\n",
        "    \n",
        "  print()"
      ],
      "execution_count": 30,
      "outputs": [
        {
          "output_type": "stream",
          "text": [
            "1 \n",
            "2 1 \n",
            "3 2 1 \n",
            "4 3 2 1 \n",
            "5 4 3 2 1 \n",
            "6 5 4 3 2 1 \n",
            "7 6 5 4 3 2 1 \n"
          ],
          "name": "stdout"
        }
      ]
    },
    {
      "cell_type": "code",
      "metadata": {
        "colab": {
          "base_uri": "https://localhost:8080/"
        },
        "id": "c-TdOmf412-D",
        "outputId": "cebb7ff8-2da7-4d97-8271-5f44a38dad8e"
      },
      "source": [
        "#Pattern 7\n",
        "\n",
        "n=6\n",
        "\n",
        "for i in range(1,n):\n",
        "  for j in range(1,n):\n",
        "    if (j <= i):\n",
        "      print(i, end =' ')\n",
        "    else:\n",
        "      print(j,end = ' ')\n",
        "    \n",
        "  print()"
      ],
      "execution_count": 31,
      "outputs": [
        {
          "output_type": "stream",
          "text": [
            "1 2 3 4 5 \n",
            "2 2 3 4 5 \n",
            "3 3 3 4 5 \n",
            "4 4 4 4 5 \n",
            "5 5 5 5 5 \n"
          ],
          "name": "stdout"
        }
      ]
    },
    {
      "cell_type": "code",
      "metadata": {
        "colab": {
          "base_uri": "https://localhost:8080/"
        },
        "id": "sIp8IPlX2Aqk",
        "outputId": "49ccb7ba-1a23-4663-f00b-66876bef5f6d"
      },
      "source": [
        "#Pattern 8\n",
        "\n",
        "for i in range(1,9):\n",
        "    x=1\n",
        "    for j in range(1,i+1):\n",
        "        n=i*x\n",
        "        print(n, end=\" \")\n",
        "        x+=1\n",
        "    print()"
      ],
      "execution_count": 32,
      "outputs": [
        {
          "output_type": "stream",
          "text": [
            "1 \n",
            "2 4 \n",
            "3 6 9 \n",
            "4 8 12 16 \n",
            "5 10 15 20 25 \n",
            "6 12 18 24 30 36 \n",
            "7 14 21 28 35 42 49 \n",
            "8 16 24 32 40 48 56 64 \n"
          ],
          "name": "stdout"
        }
      ]
    },
    {
      "cell_type": "code",
      "metadata": {
        "colab": {
          "base_uri": "https://localhost:8080/"
        },
        "id": "X5dncuZO2JQB",
        "outputId": "6a13e406-01cc-435b-fc22-f00bdfc832ed"
      },
      "source": [
        "#Pattern 9\n",
        "\n",
        "rows = 6 \n",
        "k = 2 * rows - 2    \n",
        "for i in range(rows, -1, -1):    \n",
        "    for j in range(k, 0, -1):  \n",
        "        print(end=' ')  \n",
        "    k = k + 1  \n",
        "    for j in range(0, i + 1):  \n",
        "        print('*', end = ' ')  \n",
        "    print()  \n"
      ],
      "execution_count": 33,
      "outputs": [
        {
          "output_type": "stream",
          "text": [
            "          * * * * * * * \n",
            "           * * * * * * \n",
            "            * * * * * \n",
            "             * * * * \n",
            "              * * * \n",
            "               * * \n",
            "                * \n"
          ],
          "name": "stdout"
        }
      ]
    },
    {
      "cell_type": "code",
      "metadata": {
        "colab": {
          "base_uri": "https://localhost:8080/"
        },
        "id": "EAoNMROh2PFE",
        "outputId": "a8c7350f-6c08-4faa-954a-b0eacfdd521b"
      },
      "source": [
        "#Pattern 10\n",
        "n=7\n",
        "m=7\n",
        "for i in range(1,n+1):\n",
        "  for k in range(0,m):\n",
        "    print(\" \",end=\"\")\n",
        "  for j in range(0,i):\n",
        "    print(\"*\",end=\" \")\n",
        "  m=m-1\n",
        "  print()"
      ],
      "execution_count": 34,
      "outputs": [
        {
          "output_type": "stream",
          "text": [
            "       * \n",
            "      * * \n",
            "     * * * \n",
            "    * * * * \n",
            "   * * * * * \n",
            "  * * * * * * \n",
            " * * * * * * * \n"
          ],
          "name": "stdout"
        }
      ]
    },
    {
      "cell_type": "code",
      "metadata": {
        "colab": {
          "base_uri": "https://localhost:8080/"
        },
        "id": "_jfgJ6z72e4p",
        "outputId": "8a1c8635-5a84-4b43-ad05-5bf4e686f511"
      },
      "source": [
        "#Pattern 11\n",
        "#Upper Half\n",
        "for i in range(1,7):\n",
        "  for j in range(i+1, 1 , -1):\n",
        "    print('* ', end = '')\n",
        "  print()\n",
        "\n",
        "print()\n",
        "\n",
        "#Lower Half\n",
        "for i in range(6,0,-1):\n",
        "  for j in range(i+1, 1 , -1):\n",
        "    print('* ', end = '')\n",
        "  print()"
      ],
      "execution_count": 35,
      "outputs": [
        {
          "output_type": "stream",
          "text": [
            "* \n",
            "* * \n",
            "* * * \n",
            "* * * * \n",
            "* * * * * \n",
            "* * * * * * \n",
            "\n",
            "* * * * * * \n",
            "* * * * * \n",
            "* * * * \n",
            "* * * \n",
            "* * \n",
            "* \n"
          ],
          "name": "stdout"
        }
      ]
    },
    {
      "cell_type": "code",
      "metadata": {
        "colab": {
          "base_uri": "https://localhost:8080/"
        },
        "id": "VtDgsXPh2h2h",
        "outputId": "aa5837c2-2c09-4689-b788-333c6af682a8"
      },
      "source": [
        "#Pattern 12\n",
        "\n",
        "for i in range(1,6):\n",
        "  for j in range(i+1, 1 , -1):\n",
        "    print('* ', end = '')\n",
        "  print()\n",
        "\n",
        "for i in range(4,0,-1):\n",
        "  for j in range(i+1, 1 , -1):\n",
        "    print('* ', end = '')\n",
        "  print()"
      ],
      "execution_count": 36,
      "outputs": [
        {
          "output_type": "stream",
          "text": [
            "* \n",
            "* * \n",
            "* * * \n",
            "* * * * \n",
            "* * * * * \n",
            "* * * * \n",
            "* * * \n",
            "* * \n",
            "* \n"
          ],
          "name": "stdout"
        }
      ]
    },
    {
      "cell_type": "code",
      "metadata": {
        "colab": {
          "base_uri": "https://localhost:8080/"
        },
        "id": "TZKzt8lj2lWE",
        "outputId": "949e44df-28df-4614-9597-405d49d61af0"
      },
      "source": [
        "#Pattern 13\n",
        "rows = 5\n",
        "k = 2 * (rows - 1)\n",
        "for i in range(1,6):\n",
        "  for j in range(k,0,-1):\n",
        "    print(end = ' ')\n",
        "  k=k-2\n",
        "  for j in range(i+1, 1 , -1):\n",
        "    print('* ', end = '')\n",
        "  print()\n",
        "\n",
        "rows = 4\n",
        "k = (rows-2)\n",
        "for i in range(4,0,-1):\n",
        "  for j in range(0,k):\n",
        "    print(end = ' ')\n",
        "  k=k+2\n",
        "  for j in range(1,i+1):\n",
        "    print('* ', end = '')\n",
        "  print()"
      ],
      "execution_count": 37,
      "outputs": [
        {
          "output_type": "stream",
          "text": [
            "        * \n",
            "      * * \n",
            "    * * * \n",
            "  * * * * \n",
            "* * * * * \n",
            "  * * * * \n",
            "    * * * \n",
            "      * * \n",
            "        * \n"
          ],
          "name": "stdout"
        }
      ]
    },
    {
      "cell_type": "code",
      "metadata": {
        "colab": {
          "base_uri": "https://localhost:8080/"
        },
        "id": "WNq-zyCI2ouT",
        "outputId": "78484bc6-bd54-4aff-b95b-96372291dc0e"
      },
      "source": [
        "#Pattern 14\n",
        "row = 5\n",
        "# Upper-half\n",
        "for i in range(row, 0, -1):\n",
        "    for j in range(row-i):\n",
        "       \n",
        "        print(\" \", end=\"\")\n",
        "    for j in range(1, 2*i):\n",
        "        print(\"*\", end=\"\")\n",
        "    print()\n",
        "\n",
        "# Lower-half\n",
        "for i in range(2, row+1):\n",
        "    for j in range(row-i):\n",
        "        print(\" \", end=\"\")\n",
        "    for j in range(1, 2*i):\n",
        "        print(\"*\", end=\"\")\n",
        "    print()"
      ],
      "execution_count": 38,
      "outputs": [
        {
          "output_type": "stream",
          "text": [
            "*********\n",
            " *******\n",
            "  *****\n",
            "   ***\n",
            "    *\n",
            "   ***\n",
            "  *****\n",
            " *******\n",
            "*********\n"
          ],
          "name": "stdout"
        }
      ]
    },
    {
      "cell_type": "code",
      "metadata": {
        "colab": {
          "base_uri": "https://localhost:8080/"
        },
        "id": "f4Vfu9752sXB",
        "outputId": "acb06ad3-f8f2-4e9b-8c92-5b2d6bb6cc2d"
      },
      "source": [
        "#Pattern 15\n",
        "n=9\n",
        "m=17\n",
        "for i in range(1,n):\n",
        "    for j in range(1,m):\n",
        "        if(j<=9-i or j>=8+i):\n",
        "            print(\"*\", end=\"\")\n",
        "        else:\n",
        "            print(\"_\",end=\"\")\n",
        "    print()"
      ],
      "execution_count": 39,
      "outputs": [
        {
          "output_type": "stream",
          "text": [
            "****************\n",
            "*******__*******\n",
            "******____******\n",
            "*****______*****\n",
            "****________****\n",
            "***__________***\n",
            "**____________**\n",
            "*______________*\n"
          ],
          "name": "stdout"
        }
      ]
    },
    {
      "cell_type": "code",
      "metadata": {
        "id": "Pjq26cj-RR6D"
      },
      "source": [
        ""
      ],
      "execution_count": null,
      "outputs": []
    }
  ]
}